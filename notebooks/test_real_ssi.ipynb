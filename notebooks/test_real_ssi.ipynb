{
 "cells": [
  {
   "cell_type": "code",
   "execution_count": null,
   "metadata": {},
   "outputs": [],
   "source": [
    "import os\n",
    "import random\n",
    "\n",
    "import astropy.units as u\n",
    "import btk\n",
    "import matplotlib.pyplot as plt\n",
    "import yaml\n",
    "from astropy.io import fits\n",
    "\n",
    "from blendxpz.simulations.sampling import FixedDistSampling\n",
    "from blendxpz.simulations.ssi import ssi_on_simulations\n",
    "from blendxpz.utils import get_blendxpz_config_path\n",
    "\n",
    "%load_ext autoreload\n",
    "%autoreload 2\n",
    "%matplotlib inline"
   ]
  },
  {
   "cell_type": "code",
   "execution_count": null,
   "metadata": {},
   "outputs": [],
   "source": [
    "with open(get_blendxpz_config_path()) as f:\n",
    "    blendxpz_config = yaml.safe_load(f)"
   ]
  },
  {
   "cell_type": "code",
   "execution_count": null,
   "metadata": {},
   "outputs": [],
   "source": [
    "survey_name = blendxpz_config[\"SURVEY_NAME\"]\n",
    "config = blendxpz_config[survey_name]"
   ]
  },
  {
   "cell_type": "markdown",
   "metadata": {},
   "source": [
    "### Get real HSC image"
   ]
  },
  {
   "cell_type": "code",
   "execution_count": null,
   "metadata": {},
   "outputs": [],
   "source": [
    "gal_file_name = random.choice(os.listdir(config[\"ISOLATED_GAL_DIR\"]))\n",
    "gal_file_path = os.path.join(config[\"ISOLATED_GAL_DIR\"], gal_file_name)"
   ]
  },
  {
   "cell_type": "code",
   "execution_count": null,
   "metadata": {},
   "outputs": [],
   "source": [
    "isolated_galaxy = fits.getdata(gal_file_path)"
   ]
  },
  {
   "cell_type": "code",
   "execution_count": null,
   "metadata": {},
   "outputs": [
    {
     "data": {
      "text/plain": [
       "(5, 45, 45)"
      ]
     },
     "execution_count": null,
     "metadata": {},
     "output_type": "execute_result"
    }
   ],
   "source": [
    "# extract the same size as the stamp\n",
    "stamp_pixel_size = config[\"STAMP_PIXEL_SIZE\"]\n",
    "size = isolated_galaxy.shape[1]\n",
    "isolated_galaxy = isolated_galaxy[\n",
    "    :,\n",
    "    size // 2 - stamp_pixel_size // 2 : size // 2 + stamp_pixel_size // 2 + 1,\n",
    "    size // 2 - stamp_pixel_size // 2 : size // 2 + stamp_pixel_size // 2 + 1,\n",
    "]\n",
    "isolated_galaxy.shape"
   ]
  },
  {
   "cell_type": "markdown",
   "metadata": {},
   "source": [
    "### Set up BTK generator"
   ]
  },
  {
   "cell_type": "code",
   "execution_count": null,
   "metadata": {},
   "outputs": [],
   "source": [
    "pixel_shift_distance = 10"
   ]
  },
  {
   "cell_type": "code",
   "execution_count": null,
   "metadata": {},
   "outputs": [],
   "source": [
    "CATALOG_PATHS = config[\"CATALOG_PATH\"]\n",
    "survey = btk.survey.get_surveys(survey_name)\n",
    "btk_stamp_size = survey.pixel_scale.value * stamp_pixel_size\n",
    "min_number = 1\n",
    "max_number = 1\n",
    "batch_size = 10\n",
    "shift = pixel_shift_distance * survey.pixel_scale.value\n",
    "\n",
    "survey = btk.survey.get_surveys(\"HSC\")\n",
    "\n",
    "# setup HSC survey for real data\n",
    "filters = survey.available_filters\n",
    "psf_dir = config[\"PSF_DIR\"]\n",
    "for f in filters:\n",
    "    filt = survey.get_filter(f)\n",
    "    filt.psf = lambda: btk.survey.get_psf_from_file(os.path.join(psf_dir, f), survey)\n",
    "    filt.zeropoint = 27 * u.mag\n",
    "    filt.full_exposure_time = 1 * u.s"
   ]
  },
  {
   "cell_type": "code",
   "execution_count": null,
   "metadata": {},
   "outputs": [],
   "source": [
    "catalog = btk.catalog.CosmosCatalog.from_file(CATALOG_PATHS, exclusion_level=\"none\")\n",
    "generator = btk.draw_blends.CosmosGenerator\n",
    "\n",
    "seed = 13\n",
    "\n",
    "sampling_function = FixedDistSampling(\n",
    "    index_range=[0, 20],\n",
    "    shift=shift,\n",
    "    min_number=min_number,\n",
    "    max_number=max_number,\n",
    "    stamp_size=btk_stamp_size,\n",
    "    seed=seed,\n",
    "    unique=False,\n",
    ")\n",
    "\n",
    "\n",
    "draw_generator = generator(\n",
    "    catalog,\n",
    "    sampling_function,\n",
    "    survey,\n",
    "    batch_size=batch_size,\n",
    "    stamp_size=btk_stamp_size,\n",
    "    njobs=1,\n",
    "    add_noise=\"all\",\n",
    "    verbose=False,\n",
    "    seed=seed,\n",
    ")"
   ]
  },
  {
   "cell_type": "code",
   "execution_count": null,
   "metadata": {},
   "outputs": [
    {
     "data": {
      "text/plain": [
       "(10, 5, 45, 45)"
      ]
     },
     "execution_count": null,
     "metadata": {},
     "output_type": "execute_result"
    }
   ],
   "source": [
    "ssi_galaxies, blend = ssi_on_simulations(draw_generator, isolated_galaxy)\n",
    "ssi_galaxies.shape"
   ]
  },
  {
   "cell_type": "code",
   "execution_count": null,
   "metadata": {},
   "outputs": [
    {
     "data": {
      "image/png": "[encoded data removed]",
      "text/plain": [
       "<Figure size 640x480 with 1 Axes>"
      ]
     },
     "metadata": {},
     "output_type": "display_data"
    }
   ],
   "source": [
    "show_galaxy_number = 1\n",
    "# the center of galaxies should lie on the boundary of this rectangle\n",
    "plt.imshow(ssi_galaxies[show_galaxy_number, 2])  # showing only i band\n",
    "\n",
    "\n",
    "ax = plt.gca()\n",
    "\n",
    "circle = plt.Circle(\n",
    "    (stamp_pixel_size // 2, stamp_pixel_size // 2),\n",
    "    pixel_shift_distance,\n",
    "    color=\"white\",\n",
    "    fill=False,\n",
    "    alpha=0.5,\n",
    ")\n",
    "\n",
    "ax.add_patch(circle)\n",
    "\n",
    "plt.plot(\n",
    "    blend.catalog_list[show_galaxy_number][\"x_peak\"],\n",
    "    blend.catalog_list[show_galaxy_number][\"y_peak\"],\n",
    "    marker=\"x\",\n",
    "    color=\"r\",\n",
    ")\n",
    "\n",
    "\n",
    "plt.plot(stamp_pixel_size // 2, stamp_pixel_size // 2, marker=\"*\", color=\"r\");"
   ]
  }
 ],
 "metadata": {
  "kernelspec": {
   "display_name": "madness",
   "language": "python",
   "name": "madness"
  },
  "language_info": {
   "codemirror_mode": {
    "name": "ipython",
    "version": 3
   },
   "file_extension": ".py",
   "mimetype": "text/x-python",
   "name": "python",
   "nbconvert_exporter": "python",
   "pygments_lexer": "ipython3",
   "version": "3.8.13"
  }
 },
 "nbformat": 4,
 "nbformat_minor": 4
}
