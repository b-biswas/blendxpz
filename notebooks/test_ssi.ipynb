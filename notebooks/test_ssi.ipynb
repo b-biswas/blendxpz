{
 "cells": [
  {
   "cell_type": "code",
   "execution_count": null,
   "id": "0",
   "metadata": {},
   "outputs": [],
   "source": [
    "import btk\n",
    "import matplotlib.pyplot as plt\n",
    "import numpy as np\n",
    "\n",
    "from blendxpz.simulations.sampling import FixedDistSampling\n",
    "from blendxpz.simulations.ssi import ssi\n",
    "\n",
    "%load_ext autoreload\n",
    "%autoreload 2\n",
    "%matplotlib inline"
   ]
  },
  {
   "cell_type": "markdown",
   "id": "1",
   "metadata": {},
   "source": [
    "### Generating toy data"
   ]
  },
  {
   "cell_type": "code",
   "execution_count": null,
   "id": "2",
   "metadata": {},
   "outputs": [],
   "source": [
    "isolated_galaxy = np.zeros((10, 5, 45, 45))"
   ]
  },
  {
   "cell_type": "markdown",
   "id": "3",
   "metadata": {},
   "source": [
    "### Set up BTK generator"
   ]
  },
  {
   "cell_type": "code",
   "execution_count": null,
   "id": "4",
   "metadata": {},
   "outputs": [],
   "source": [
    "pixel_shift_distance = 5"
   ]
  },
  {
   "cell_type": "code",
   "execution_count": null,
   "id": "5",
   "metadata": {},
   "outputs": [],
   "source": [
    "CATALOG_PATHS = [\n",
    "    \"/sps/lsst/users/bbiswas/HSC_catalog/real_galaxy_catalog_26_extension_detrefined.fits\",\n",
    "    \"/sps/lsst/users/bbiswas/HSC_catalog/real_galaxy_catalog_26_extension_detrefined_fits.fits\",\n",
    "]\n",
    "survey = btk.survey.get_surveys(\"HSC\")\n",
    "stamp_size = survey.pixel_scale.value * 45\n",
    "min_number = 1\n",
    "max_number = 1\n",
    "batch_size = 10\n",
    "shift = pixel_shift_distance * survey.pixel_scale.value\n",
    "\n",
    "survey = btk.survey.get_surveys(\"HSC\")\n",
    "\n",
    "catalog = btk.catalog.CosmosCatalog.from_file(CATALOG_PATHS, exclusion_level=\"none\")\n",
    "generator = btk.draw_blends.CosmosGenerator\n",
    "\n",
    "index_range = [200000, len(catalog.table)]\n",
    "\n",
    "seed = 13\n",
    "\n",
    "linear_norm_coeff = 10000\n",
    "\n",
    "sampling_function = FixedDistSampling(\n",
    "    index_range=[100000, 150000],\n",
    "    shift=shift,\n",
    "    min_number=min_number,\n",
    "    max_number=max_number,\n",
    "    stamp_size=stamp_size,\n",
    "    seed=seed,\n",
    "    unique=False,\n",
    ")\n",
    "\n",
    "\n",
    "draw_generator = generator(\n",
    "    catalog,\n",
    "    sampling_function,\n",
    "    survey,\n",
    "    batch_size=batch_size,\n",
    "    stamp_size=stamp_size,\n",
    "    njobs=1,\n",
    "    add_noise=\"all\",\n",
    "    verbose=False,\n",
    "    seed=seed,\n",
    ")"
   ]
  },
  {
   "cell_type": "code",
   "execution_count": null,
   "id": "6",
   "metadata": {
    "tags": []
   },
   "outputs": [],
   "source": [
    "ssi_galaxies, blend = ssi(draw_generator, isolated_galaxy)"
   ]
  },
  {
   "cell_type": "code",
   "execution_count": null,
   "id": "7",
   "metadata": {},
   "outputs": [
    {
     "data": {
      "image/png": "[encoded data removed]",
      "text/plain": [
       "<Figure size 640x480 with 1 Axes>"
      ]
     },
     "metadata": {},
     "output_type": "display_data"
    }
   ],
   "source": [
    "show_galaxy_number = 1\n",
    "# the center of galaxies should lie on the boundary of this rectangle\n",
    "plt.imshow(ssi_galaxies[show_galaxy_number, 2])  # showing only r band\n",
    "\n",
    "\n",
    "ax = plt.gca()\n",
    "\n",
    "circle = plt.Circle((22, 22), 5, color=\"b\", fill=False)\n",
    "\n",
    "ax.add_patch(circle)\n",
    "\n",
    "plt.plot(\n",
    "    blend.catalog_list[show_galaxy_number][\"x_peak\"],\n",
    "    blend.catalog_list[show_galaxy_number][\"y_peak\"],\n",
    "    marker=\"x\",\n",
    "    color=\"r\",\n",
    ")\n",
    "\n",
    "\n",
    "plt.plot(22, 22, marker=\"*\", color=\"r\");"
   ]
  },
  {
   "cell_type": "code",
   "execution_count": null,
   "id": "8",
   "metadata": {},
   "outputs": [],
   "source": []
  }
 ],
 "metadata": {
  "kernelspec": {
   "display_name": "madness",
   "language": "python",
   "name": "madness"
  },
  "language_info": {
   "codemirror_mode": {
    "name": "ipython",
    "version": 3
   },
   "file_extension": ".py",
   "mimetype": "text/x-python",
   "name": "python",
   "nbconvert_exporter": "python",
   "pygments_lexer": "ipython3",
   "version": "3.8.13"
  }
 },
 "nbformat": 4,
 "nbformat_minor": 5
}
